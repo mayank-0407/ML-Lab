{
  "nbformat": 4,
  "nbformat_minor": 0,
  "metadata": {
    "colab": {
      "provenance": [],
      "authorship_tag": "ABX9TyNWB9/ScmTHLjiJmgTj19yS",
      "include_colab_link": true
    },
    "kernelspec": {
      "name": "python3",
      "display_name": "Python 3"
    },
    "language_info": {
      "name": "python"
    }
  },
  "cells": [
    {
      "cell_type": "markdown",
      "metadata": {
        "id": "view-in-github",
        "colab_type": "text"
      },
      "source": [
        "<a href=\"https://colab.research.google.com/github/mayank-0407/ML-Lab/blob/main/ML_Assignment_1.ipynb\" target=\"_parent\"><img src=\"https://colab.research.google.com/assets/colab-badge.svg\" alt=\"Open In Colab\"/></a>"
      ]
    },
    {
      "cell_type": "markdown",
      "source": [
        "\n",
        "Q1: Questions on Basic NumPy Array\n",
        "\n",
        "(a) Reverse the NumPy array: arr = np.array([1, 2, 3, 6, 4, 5])"
      ],
      "metadata": {
        "id": "ITKYoj8ayke-"
      }
    },
    {
      "cell_type": "code",
      "source": [
        "import numpy as np"
      ],
      "metadata": {
        "id": "yu8wWwpwy8J4"
      },
      "execution_count": 2,
      "outputs": []
    },
    {
      "cell_type": "code",
      "source": [
        "arr=np.array([1,2,3,4,5])\n",
        "rev_arr=arr[::-1]\n",
        "print(rev_arr)"
      ],
      "metadata": {
        "colab": {
          "base_uri": "https://localhost:8080/"
        },
        "id": "UaFpgsKoynJD",
        "outputId": "37682371-5822-453c-ea8b-8d7149132a2b"
      },
      "execution_count": 7,
      "outputs": [
        {
          "output_type": "stream",
          "name": "stdout",
          "text": [
            "[5 4 3 2 1]\n"
          ]
        }
      ]
    },
    {
      "cell_type": "markdown",
      "source": [
        "(b) Flatten the NumPy arr: array1 = np.array([[1, 2, 3], [2, 4, 5], [1, 2, 3]]) using any two\n",
        "NumPy in-built methods"
      ],
      "metadata": {
        "id": "9bmMXbbm0A8K"
      }
    },
    {
      "cell_type": "code",
      "source": [
        "array1 = np.array([[1, 2, 3], [2, 4, 5], [1, 2, 3]])\n",
        "array1_flatten = array1.flatten()\n",
        "array1_ravel = array1.ravel()\n",
        "print(array1_flatten)\n",
        "print(array1_ravel)"
      ],
      "metadata": {
        "colab": {
          "base_uri": "https://localhost:8080/"
        },
        "id": "DwBzBEjx0ZmH",
        "outputId": "4fee4a28-04b7-4f87-9bc4-2c671143b285"
      },
      "execution_count": 8,
      "outputs": [
        {
          "output_type": "stream",
          "name": "stdout",
          "text": [
            "[1 2 3 2 4 5 1 2 3]\n",
            "[1 2 3 2 4 5 1 2 3]\n"
          ]
        }
      ]
    },
    {
      "cell_type": "markdown",
      "source": [
        "(c) Compare the following numpy arrays:\n",
        "\n",
        "arr1 = np.array([[1, 2], [3, 4]])\n",
        "\n",
        "arr2 = np.array([[1, 2], [3, 4]])"
      ],
      "metadata": {
        "id": "V53ponto00jP"
      }
    },
    {
      "cell_type": "code",
      "source": [
        "arr1=np.array([[1,2],[3,4]])\n",
        "arr2=np.array([[1,2],[3,4]])\n",
        "print(arr1==arr2)"
      ],
      "metadata": {
        "colab": {
          "base_uri": "https://localhost:8080/"
        },
        "id": "CSgdg5js04HK",
        "outputId": "d7396aad-3e53-435f-d4ca-475ead863a64"
      },
      "execution_count": 16,
      "outputs": [
        {
          "output_type": "stream",
          "name": "stdout",
          "text": [
            "[[ True  True]\n",
            " [ True  True]]\n"
          ]
        }
      ]
    },
    {
      "cell_type": "markdown",
      "source": [
        "(d) Find the most frequent value and their indice(s) in the following arrays:\n",
        "\n",
        "i. x = np.array([1,2,3,4,5,1,2,1,1,1])\n",
        "\n",
        "ii. y = np.array([1, 1, 1, 2, 3, 4, 2, 4, 3, 3, ])"
      ],
      "metadata": {
        "id": "ARMxXusF1nsL"
      }
    },
    {
      "cell_type": "code",
      "source": [
        "x = np.array([1, 2, 3, 4, 5, 1, 2, 1, 1, 1])\n",
        "y = np.array([1, 1, 1, 2, 3, 4, 2, 4, 3, 3])\n",
        "unique_values_x, counts_x = np.unique(x, return_counts=True)\n",
        "unique_values_y, counts_y = np.unique(y, return_counts=True)\n",
        "\n",
        "most_frequent_value_x = unique_values_x[np.argmax(counts_x)]\n",
        "most_frequent_indices_x = np.where(x == most_frequent_value_x)[0]\n",
        "\n",
        "most_frequent_value_y = unique_values_y[np.argmax(counts_y)]\n",
        "most_frequent_indices_y = np.where(y == most_frequent_value_y)[0]\n",
        "\n",
        "print(\"Array x:\")\n",
        "print(\"Most frequent value:\", most_frequent_value_x)\n",
        "print(\"Indices of the most frequent value:\", most_frequent_indices_x)\n",
        "\n",
        "print(\"\\nArray y:\")\n",
        "print(\"Most frequent value:\", most_frequent_value_y)\n",
        "print(\"Indices of the most frequent value:\", most_frequent_indices_y)"
      ],
      "metadata": {
        "colab": {
          "base_uri": "https://localhost:8080/"
        },
        "id": "koXMsF5w1tk7",
        "outputId": "a6d61298-202f-4b6c-9ea2-6c535dba73c6"
      },
      "execution_count": 17,
      "outputs": [
        {
          "output_type": "stream",
          "name": "stdout",
          "text": [
            "Array x:\n",
            "Most frequent value: 1\n",
            "Indices of the most frequent value: [0 5 7 8 9]\n",
            "\n",
            "Array y:\n",
            "Most frequent value: 1\n",
            "Indices of the most frequent value: [0 1 2]\n"
          ]
        }
      ]
    },
    {
      "cell_type": "markdown",
      "source": [
        "(e) For the array gfg = np.matrix('[4, 1, 9; 12, 3, 1; 4, 5, 6]'), find\n",
        "\n",
        "i. Sum of all elements\n",
        "\n",
        "ii. Sum of all elements row-wise\n",
        "\n",
        "iii. Sum of all elements column-wise"
      ],
      "metadata": {
        "id": "rudYVAbx2d9l"
      }
    },
    {
      "cell_type": "code",
      "source": [
        "arr = np.matrix('[4, 1, 9; 12, 3, 1; 4, 5, 6]')\n",
        "sum_all_elements = np.sum(arr)\n",
        "print(\"Sum of all Elements \",sum_all_elements)\n",
        "print()\n",
        "\n",
        "sum_row_wise = np.sum(arr, axis=1)\n",
        "print(\"Row Wise Sum of the Matrix\",sum_row_wise)\n",
        "\n",
        "sum_col_wise = np.sum(arr, axis=0)\n",
        "print()\n",
        "print(\"Column Wise Sum of the Matrix\",sum_col_wise)"
      ],
      "metadata": {
        "colab": {
          "base_uri": "https://localhost:8080/"
        },
        "id": "sLijuZ862hJF",
        "outputId": "abb88ca4-183e-4c76-fd50-ad4eed0eb050"
      },
      "execution_count": 25,
      "outputs": [
        {
          "output_type": "stream",
          "name": "stdout",
          "text": [
            "Sum of all Elements  45\n",
            "\n",
            "Row Wise Sum of the Matrix [[14]\n",
            " [16]\n",
            " [15]]\n",
            "\n",
            "Column Wise Sum of the Matrix [[20  9 16]]\n"
          ]
        }
      ]
    },
    {
      "cell_type": "markdown",
      "source": [
        "(f) For the matrix: n_array = np.array([[55, 25, 15],[30, 44, 2],[11, 45, 77]]), find\n",
        "\n",
        "i. Sum of diagonal elements\n",
        "\n",
        "ii. Eigen values of matrix\n",
        "\n",
        "iii. Eigen vectors of matrix\n",
        "\n",
        "iv. Inverse of matrix\n",
        "\n",
        "v. Determinant of matrix"
      ],
      "metadata": {
        "id": "UXdjsTYD3S1m"
      }
    },
    {
      "cell_type": "code",
      "source": [
        "n_array = np.array([[55, 25, 15], [30, 44, 2], [11, 45, 77]])\n",
        "sum_diagonal = np.trace(n_array)\n",
        "print(\"Sum of Diagonal Elements \",sum_diagonal)\n",
        "\n",
        "eigenvalues = np.linalg.eigvals(n_array)\n",
        "print(\"Eigen Values of Matrix\",eigenvalues)\n",
        "\n",
        "eigenvalues, eigenvectors = np.linalg.eig(n_array)\n",
        "print(\"Eigen Vectors of Matrix\",eigenvectors)\n",
        "\n",
        "inverse_matrix = np.linalg.inv(n_array)\n",
        "print(\"Inverse of Matrix\",inverse_matrix)\n",
        "\n",
        "determinant = np.linalg.det(n_array)\n",
        "print(\"Determinant of Matrix\",determinant)"
      ],
      "metadata": {
        "colab": {
          "base_uri": "https://localhost:8080/"
        },
        "id": "8UE1Enjg3WOS",
        "outputId": "4977ea32-d708-45e3-86c8-c7f22b2590a3"
      },
      "execution_count": 28,
      "outputs": [
        {
          "output_type": "stream",
          "name": "stdout",
          "text": [
            "Sum of Diagonal Elements  176\n",
            "Eigen Values of Matrix [98.16835147 28.097044   49.73460452]\n",
            "Eigen Vectors of Matrix [[ 0.4574917   0.34637121 -0.15017693]\n",
            " [ 0.28447814 -0.72784061 -0.4852124 ]\n",
            " [ 0.84248058  0.59184038  0.8614034 ]]\n",
            "Inverse of Matrix [[ 0.02404141 -0.00911212 -0.00444671]\n",
            " [-0.01667882  0.02966905  0.0024785 ]\n",
            " [ 0.00631287 -0.01603732  0.01217379]]\n",
            "Determinant of Matrix 137180.0000000001\n"
          ]
        }
      ]
    },
    {
      "cell_type": "markdown",
      "source": [
        "(g) Multiply the following matrices and also find covariance between matrices using NumPy:\n",
        "\n",
        "i. p = [[1, 2], [2, 3]]\n",
        "    q = [[4, 5], [6, 7]]\n",
        "\n",
        "ii. p = [[1, 2], [2, 3], [4, 5]]\n",
        "    q = [[4, 5, 1], [6, 7, 2]]"
      ],
      "metadata": {
        "id": "-6NTT_zZ5HCH"
      }
    },
    {
      "cell_type": "code",
      "source": [
        "p = np.array([[1, 2], [2, 3], [4, 5]])\n",
        "q = np.array([[4, 5, 1], [6, 7, 2]])\n",
        "\n",
        "matrix_product = np.dot(p, q)\n",
        "covariance_matrix = np.cov(matrix_product,rowvar=False)\n",
        "\n",
        "print(\"Matrix product (p * q):\")\n",
        "print(matrix_product)\n",
        "\n",
        "print(\"\\nCovariance matrix between p and q:\")\n",
        "print(covariance_matrix)"
      ],
      "metadata": {
        "colab": {
          "base_uri": "https://localhost:8080/"
        },
        "id": "jtnqi-Xn5MCY",
        "outputId": "a08cd84d-a58b-42a7-f910-ff7fa3b0c79b"
      },
      "execution_count": 35,
      "outputs": [
        {
          "output_type": "stream",
          "name": "stdout",
          "text": [
            "Matrix product (p * q):\n",
            "[[16 19  5]\n",
            " [26 31  8]\n",
            " [46 55 14]]\n",
            "\n",
            "Covariance matrix between p and q:\n",
            "[[233.33333333 280.          70.        ]\n",
            " [280.         336.          84.        ]\n",
            " [ 70.          84.          21.        ]]\n"
          ]
        }
      ]
    },
    {
      "cell_type": "markdown",
      "source": [
        "(h) For the matrices: x = np.array([[2, 3, 4], [3, 2, 9]]); y = np.array([[1, 5, 0], [5, 10, 3]]),\n",
        "find inner, outer and cartesian product?"
      ],
      "metadata": {
        "id": "bSjeDvmZ6K0x"
      }
    },
    {
      "cell_type": "code",
      "source": [
        "x = np.array([[2, 3, 4], [3, 2, 9]])\n",
        "y = np.array([[1, 5, 0], [5, 10, 3]])\n",
        "\n",
        "inner_product = np.inner(x, y)\n",
        "outer_product = np.outer(x, y)\n",
        "cartesian_product = np.transpose([np.tile(x, len(y.flatten())), np.repeat(y, len(x.flatten()), axis=0)])\n",
        "\n",
        "print(\"\\nInner product:\")\n",
        "print(inner_product)\n",
        "\n",
        "print(\"\\nOuter product:\")\n",
        "print(outer_product)\n",
        "\n",
        "print(\"\\nCartesian product:\")\n",
        "print(cartesian_product)"
      ],
      "metadata": {
        "colab": {
          "base_uri": "https://localhost:8080/"
        },
        "id": "4eGVZhN46N3V",
        "outputId": "bf122dc0-4e31-4878-c1eb-0c1e986b9263"
      },
      "execution_count": 38,
      "outputs": [
        {
          "output_type": "stream",
          "name": "stdout",
          "text": [
            "\n",
            "Inner product:\n",
            "[[17 52]\n",
            " [13 62]]\n",
            "\n",
            "Outer product:\n",
            "[[ 2 10  0 10 20  6]\n",
            " [ 3 15  0 15 30  9]\n",
            " [ 4 20  0 20 40 12]\n",
            " [ 3 15  0 15 30  9]\n",
            " [ 2 10  0 10 20  6]\n",
            " [ 9 45  0 45 90 27]]\n",
            "\n",
            "Cartesian product:\n",
            "[array([[2, 3, 4, 2, 3, 4, 2, 3, 4, 2, 3, 4, 2, 3, 4, 2, 3, 4],\n",
            "        [3, 2, 9, 3, 2, 9, 3, 2, 9, 3, 2, 9, 3, 2, 9, 3, 2, 9]])\n",
            " array([[ 1,  5,  0],\n",
            "        [ 1,  5,  0],\n",
            "        [ 1,  5,  0],\n",
            "        [ 1,  5,  0],\n",
            "        [ 1,  5,  0],\n",
            "        [ 1,  5,  0],\n",
            "        [ 5, 10,  3],\n",
            "        [ 5, 10,  3],\n",
            "        [ 5, 10,  3],\n",
            "        [ 5, 10,  3],\n",
            "        [ 5, 10,  3],\n",
            "        [ 5, 10,  3]])]\n"
          ]
        },
        {
          "output_type": "stream",
          "name": "stderr",
          "text": [
            "/usr/local/lib/python3.10/dist-packages/numpy/core/fromnumeric.py:43: VisibleDeprecationWarning: Creating an ndarray from ragged nested sequences (which is a list-or-tuple of lists-or-tuples-or ndarrays with different lengths or shapes) is deprecated. If you meant to do this, you must specify 'dtype=object' when creating the ndarray.\n",
            "  result = getattr(asarray(obj), method)(*args, **kwds)\n"
          ]
        }
      ]
    },
    {
      "cell_type": "markdown",
      "source": [
        "**Q2: Based on NumPy Mathematics and Statistics**\n",
        "\n",
        "(a) For the array: array = np.array([[1, -2, 3],[-4, 5, -6]])\n",
        "\n",
        "i. Find element-wise absolute value\n",
        "\n",
        "ii. Find the 25th, 50th, and 75th percentile of flattened array, for each column, for each\n",
        "row.\n",
        "\n",
        "iii. Mean, Median and Standard Deviation of flattened array, of each column, and\n",
        "each row"
      ],
      "metadata": {
        "id": "_sUw7pPb69mH"
      }
    },
    {
      "cell_type": "code",
      "source": [
        "array = np.array([[1, -2, 3], [-4, 5, -6]])\n",
        "\n",
        "# i. Element-wise absolute value\n",
        "abs_array = np.abs(array)\n",
        "\n",
        "print(\"Element-wise absolute value:\")\n",
        "print(abs_array)\n",
        "\n",
        "# ii. Percentiles for flattened array, columns, and rows\n",
        "percentiles_flattened = np.percentile(array, [25, 50, 75])\n",
        "percentiles_columns = np.percentile(array, [25, 50, 75], axis=0)\n",
        "percentiles_rows = np.percentile(array, [25, 50, 75], axis=1)\n",
        "\n",
        "print(\"\\nPercentiles for the flattened array:\")\n",
        "print(percentiles_flattened)\n",
        "\n",
        "print(\"\\nPercentiles for each column:\")\n",
        "print(percentiles_columns)\n",
        "\n",
        "print(\"\\nPercentiles for each row:\")\n",
        "print(percentiles_rows)\n",
        "\n",
        "# iii. Mean, Median, and Standard Deviation for flattened array, columns, and rows\n",
        "mean_flattened = np.mean(array)\n",
        "median_flattened = np.median(array)\n",
        "std_dev_flattened = np.std(array)\n",
        "\n",
        "mean_columns = np.mean(array, axis=0)\n",
        "median_columns = np.median(array, axis=0)\n",
        "std_dev_columns = np.std(array, axis=0)\n",
        "\n",
        "mean_rows = np.mean(array, axis=1)\n",
        "median_rows = np.median(array, axis=1)\n",
        "std_dev_rows = np.std(array, axis=1)\n",
        "\n",
        "print(\"\\nMean, Median, and Standard Deviation for the flattened array:\")\n",
        "print(\"Mean:\", mean_flattened)\n",
        "print(\"Median:\", median_flattened)\n",
        "print(\"Standard Deviation:\", std_dev_flattened)\n",
        "\n",
        "print(\"\\nMean, Median, and Standard Deviation for each column:\")\n",
        "print(\"Mean:\", mean_columns)\n",
        "print(\"Median:\", median_columns)\n",
        "print(\"Standard Deviation:\", std_dev_columns)\n",
        "\n",
        "print(\"\\nMean, Median, and Standard Deviation for each row:\")\n",
        "print(\"Mean:\", mean_rows)\n",
        "print(\"Median:\", median_rows)\n",
        "print(\"Standard Deviation:\", std_dev_rows)"
      ],
      "metadata": {
        "colab": {
          "base_uri": "https://localhost:8080/"
        },
        "id": "-WJz_NbK7DBh",
        "outputId": "237822cd-998d-43c3-acff-cc869db11ae1"
      },
      "execution_count": 41,
      "outputs": [
        {
          "output_type": "stream",
          "name": "stdout",
          "text": [
            "Element-wise absolute value:\n",
            "[[1 2 3]\n",
            " [4 5 6]]\n",
            "\n",
            "Percentiles for the flattened array:\n",
            "[-3.5 -0.5  2.5]\n",
            "\n",
            "Percentiles for each column:\n",
            "[[-2.75 -0.25 -3.75]\n",
            " [-1.5   1.5  -1.5 ]\n",
            " [-0.25  3.25  0.75]]\n",
            "\n",
            "Percentiles for each row:\n",
            "[[-0.5 -5. ]\n",
            " [ 1.  -4. ]\n",
            " [ 2.   0.5]]\n",
            "\n",
            "Mean, Median, and Standard Deviation for the flattened array:\n",
            "Mean: -0.5\n",
            "Median: -0.5\n",
            "Standard Deviation: 3.8622100754188224\n",
            "\n",
            "Mean, Median, and Standard Deviation for each column:\n",
            "Mean: [-1.5  1.5 -1.5]\n",
            "Median: [-1.5  1.5 -1.5]\n",
            "Standard Deviation: [2.5 3.5 4.5]\n",
            "\n",
            "Mean, Median, and Standard Deviation for each row:\n",
            "Mean: [ 0.66666667 -1.66666667]\n",
            "Median: [ 1. -4.]\n",
            "Standard Deviation: [2.05480467 4.78423336]\n"
          ]
        }
      ]
    },
    {
      "cell_type": "markdown",
      "source": [
        "(b) For the array: a = np.array([-1.8, -1.6, -0.5, 0.5,1.6, 1.8, 3.0]).\n",
        "\n",
        "Find floor, ceiling\n",
        "and truncated value, rounded values"
      ],
      "metadata": {
        "id": "_E7W37k38JFk"
      }
    },
    {
      "cell_type": "code",
      "source": [
        "a = np.array([-1.8, -1.6, -0.5, 0.5, 1.6, 1.8, 3.0])\n",
        "floor_values = np.floor(a)\n",
        "ceiling_values = np.ceil(a)\n",
        "truncated_values = np.trunc(a)\n",
        "rounded_values = np.round(a)\n",
        "\n",
        "print(\"Original array:\",a)\n",
        "print(\"\\nFloor values:\",floor_values)\n",
        "print(\"\\nCeiling values:\",ceiling_values)\n",
        "print(\"\\nTruncated values:\",truncated_values)\n",
        "print(\"\\nRounded values:\",rounded_values)"
      ],
      "metadata": {
        "colab": {
          "base_uri": "https://localhost:8080/"
        },
        "id": "QXFxg9y38Lzq",
        "outputId": "8300844f-1629-4e05-8ed4-8a1850e2252c"
      },
      "execution_count": 42,
      "outputs": [
        {
          "output_type": "stream",
          "name": "stdout",
          "text": [
            "Original array: [-1.8 -1.6 -0.5  0.5  1.6  1.8  3. ]\n",
            "\n",
            "Floor values: [-2. -2. -1.  0.  1.  1.  3.]\n",
            "\n",
            "Ceiling values: [-1. -1. -0.  1.  2.  2.  3.]\n",
            "\n",
            "Truncated values: [-1. -1. -0.  0.  1.  1.  3.]\n",
            "\n",
            "Rounded values: [-2. -2. -0.  0.  2.  2.  3.]\n"
          ]
        }
      ]
    },
    {
      "cell_type": "markdown",
      "source": [
        "**Q3: Based on Searching and Sorting**"
      ],
      "metadata": {
        "id": "vq5zIUJF8lA4"
      }
    },
    {
      "cell_type": "markdown",
      "source": [
        "**(a) For the array: array = np.array([10, 52, 62, 16, 16, 54, 453]), find**"
      ],
      "metadata": {
        "id": "iz9-Kmqz8mVq"
      }
    },
    {
      "cell_type": "markdown",
      "source": [
        "i. Sorted array"
      ],
      "metadata": {
        "id": "mN4KnT9u8pgU"
      }
    },
    {
      "cell_type": "code",
      "source": [
        "arr = np.array([10, 52, 62, 16, 16, 54, 453])\n",
        "new_arr=np.sort(arr)\n",
        "print(\"Sorted Arr\",new_arr)"
      ],
      "metadata": {
        "colab": {
          "base_uri": "https://localhost:8080/"
        },
        "id": "utJA9bsW8uTJ",
        "outputId": "32c5ff96-206e-4d5c-a74e-510afe4c1b38"
      },
      "execution_count": 49,
      "outputs": [
        {
          "output_type": "stream",
          "name": "stdout",
          "text": [
            "Sorted Arr [ 10  16  16  52  54  62 453]\n"
          ]
        }
      ]
    },
    {
      "cell_type": "markdown",
      "source": [
        "ii. Indices of sorted array"
      ],
      "metadata": {
        "id": "ORKGi8dK85aq"
      }
    },
    {
      "cell_type": "code",
      "source": [
        "sorted_indices = np.argsort(new_arr)\n",
        "print(\"Sorted Indices of The elements\",sorted_indices)"
      ],
      "metadata": {
        "colab": {
          "base_uri": "https://localhost:8080/"
        },
        "id": "q17G0AZl87fi",
        "outputId": "47c9db00-5698-4e75-c51a-0c89822033ff"
      },
      "execution_count": 50,
      "outputs": [
        {
          "output_type": "stream",
          "name": "stdout",
          "text": [
            "Sorted Indices of The elements [0 1 2 3 4 5 6]\n"
          ]
        }
      ]
    },
    {
      "cell_type": "markdown",
      "source": [
        "iii. 4 smallest elements"
      ],
      "metadata": {
        "id": "rD_N0azR9vC9"
      }
    },
    {
      "cell_type": "code",
      "source": [
        "smallest_elements = new_arr[:4]\n",
        "print(\"Smallest Elements : \",smallest_elements)"
      ],
      "metadata": {
        "colab": {
          "base_uri": "https://localhost:8080/"
        },
        "id": "AsYZSJUK9Ps9",
        "outputId": "c9db9f27-8c4a-4b42-80a0-496427c224e0"
      },
      "execution_count": 51,
      "outputs": [
        {
          "output_type": "stream",
          "name": "stdout",
          "text": [
            "Smallest Elements :  [10 16 16 52]\n"
          ]
        }
      ]
    },
    {
      "cell_type": "markdown",
      "source": [
        "iv. 5 largest elements"
      ],
      "metadata": {
        "id": "bdEg7Y7y9set"
      }
    },
    {
      "cell_type": "code",
      "source": [
        "largest_elements = new_arr[-5:]\n",
        "print(\"5 Lagest Elements of Arr \",largest_elements)"
      ],
      "metadata": {
        "colab": {
          "base_uri": "https://localhost:8080/"
        },
        "id": "s4g7gIPd9wI6",
        "outputId": "e93826be-d7f2-4502-ae39-ec7f29e3a209"
      },
      "execution_count": 52,
      "outputs": [
        {
          "output_type": "stream",
          "name": "stdout",
          "text": [
            "5 Lagest Elements of Arr  [ 16  52  54  62 453]\n"
          ]
        }
      ]
    },
    {
      "cell_type": "markdown",
      "source": [
        "(b) For the array: array = np.array([1.0, 1.2, 2.2, 2.0, 3.0, 2.0]), find"
      ],
      "metadata": {
        "id": "72W8Bb2z-DvB"
      }
    },
    {
      "cell_type": "markdown",
      "source": [
        "i. Integer elements only"
      ],
      "metadata": {
        "id": "ewMk9zj7-FsQ"
      }
    },
    {
      "cell_type": "code",
      "source": [
        "array = np.array([1.0, 1.2, 2.2, 2.0, 3.0, 2.0])\n",
        "integer_elements = array[array.astype(int) == array]\n",
        "\n",
        "print(\"Only Integer Elements in Array \",integer_elements)"
      ],
      "metadata": {
        "colab": {
          "base_uri": "https://localhost:8080/"
        },
        "id": "GGc96PFX-IR-",
        "outputId": "f87c67b1-d0c6-4b13-ac3d-f14cecd0a4e3"
      },
      "execution_count": 54,
      "outputs": [
        {
          "output_type": "stream",
          "name": "stdout",
          "text": [
            "Only Integer Elements in Array  [1. 2. 3. 2.]\n"
          ]
        }
      ]
    },
    {
      "cell_type": "markdown",
      "source": [
        "ii. Float elements only"
      ],
      "metadata": {
        "id": "dPrh3lio-He6"
      }
    },
    {
      "cell_type": "code",
      "source": [
        "float_elements = array[array.astype(int) != array]\n",
        "\n",
        "print(\"Only Float Elements in Array \",float_elements)"
      ],
      "metadata": {
        "colab": {
          "base_uri": "https://localhost:8080/"
        },
        "id": "wTPC0uhE-f_r",
        "outputId": "aebc4a17-e9ec-4f8e-bf7e-7796e923fa6f"
      },
      "execution_count": 55,
      "outputs": [
        {
          "output_type": "stream",
          "name": "stdout",
          "text": [
            "Only Float Elements in Array  [1.2 2.2]\n"
          ]
        }
      ]
    }
  ]
}